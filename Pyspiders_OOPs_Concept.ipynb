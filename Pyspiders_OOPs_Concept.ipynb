{
 "cells": [
  {
   "cell_type": "markdown",
   "id": "997e2724",
   "metadata": {},
   "source": [
    "## OOPs: Object Oriented Programming"
   ]
  },
  {
   "cell_type": "markdown",
   "id": "424465d9",
   "metadata": {},
   "source": [
    "It is a methodology to design programs using the concept of class and object.\n",
    "\n",
    "It is somehow closer to real-world entity.\n",
    "\n",
    "For ex- Car is a class and bmw,audi,mercedes are objects."
   ]
  },
  {
   "cell_type": "markdown",
   "id": "8412a653",
   "metadata": {},
   "source": [
    "## Class"
   ]
  },
  {
   "cell_type": "markdown",
   "id": "63b7d9a5",
   "metadata": {},
   "source": [
    "Class is a user defined datatype that has its own data members and member functions.\n",
    "\n",
    "Class is the blueprint from which objects are created.\n",
    "\n",
    "Class is created with the help of 'class' keyword.\n"
   ]
  },
  {
   "cell_type": "code",
   "execution_count": 38,
   "id": "07379d6a",
   "metadata": {},
   "outputs": [],
   "source": [
    "class Pyspiders:\n",
    "    pass"
   ]
  },
  {
   "cell_type": "code",
   "execution_count": 39,
   "id": "3cadf594",
   "metadata": {},
   "outputs": [],
   "source": [
    "class Python:\n",
    "    pass"
   ]
  },
  {
   "cell_type": "markdown",
   "id": "875dc323",
   "metadata": {},
   "source": [
    "## Objects"
   ]
  },
  {
   "cell_type": "markdown",
   "id": "235c47f6",
   "metadata": {},
   "source": [
    "Object is a real time entity which has both state and behaviour.(state-details and behaviour-functionalities)\n",
    "\n",
    "Object is created using class address.\n",
    "\n",
    "With the help of one class,we can create multiple objects.\n",
    "\n",
    "Examples of objects and class in brief -:\n",
    "\n",
    "Class- Animal : Object- Dog : Details- Name,age,color,gender\n",
    "\n",
    "Class- Phone : Object- Vivo : Details- RAM,storage,operating system,processor"
   ]
  },
  {
   "cell_type": "code",
   "execution_count": 18,
   "id": "91b6d925",
   "metadata": {},
   "outputs": [
    {
     "name": "stdout",
     "output_type": "stream",
     "text": [
      "<__main__.Pyspiders object at 0x0000025C26B0F0D0>\n",
      "<class '__main__.Pyspiders'>\n",
      "<class '__main__.Pyspiders'>\n"
     ]
    }
   ],
   "source": [
    "class Pyspiders:\n",
    "    pass\n",
    "\n",
    "p=Pyspiders()  #p is the object created by using 'Pyspiders' class address.\n",
    "\n",
    "print(p)\n",
    "print(Pyspiders)\n",
    "print(type(p))"
   ]
  },
  {
   "cell_type": "markdown",
   "id": "8ca97d86",
   "metadata": {},
   "source": [
    "## Class member and Object member"
   ]
  },
  {
   "cell_type": "markdown",
   "id": "5b6ec37e",
   "metadata": {},
   "source": [
    "For every object, there are some common details and some uncommon details.\n",
    "\n",
    "Common details->class members ; uncommon details->object members\n",
    "\n",
    "There are 2 types of members/attributes/variables i.e. class members and object members."
   ]
  },
  {
   "cell_type": "code",
   "execution_count": 22,
   "id": "2a86fcd0",
   "metadata": {},
   "outputs": [
    {
     "name": "stdout",
     "output_type": "stream",
     "text": [
      "PTD-M3,Python Full Stack Development\n",
      "PTD-M3,Python Full Stack Development\n"
     ]
    }
   ],
   "source": [
    "class Pyspiders:\n",
    "    Batch_Code='PTD-M3'\n",
    "    Course='Python Full Stack Development'\n",
    "    \n",
    "p=Pyspiders()\n",
    "print(p.Batch_Code,p.Course,sep=',')\n",
    "print(Pyspiders.Batch_Code,Pyspiders.Course,sep=',')"
   ]
  },
  {
   "cell_type": "markdown",
   "id": "9f895899",
   "metadata": {},
   "source": [
    "## Class Members/attributes/variables"
   ]
  },
  {
   "cell_type": "markdown",
   "id": "5fb54f61",
   "metadata": {},
   "source": [
    "Class members are initialized inside the class.\n",
    "\n",
    "Class members can be accessed and modified using both class and object references.\n",
    "\n",
    "If we try to modify class member using class refrences,then it will get changed for all/every objects.\n",
    "\n",
    "If we try to modify class member using object refrences,then it will change only for the specific object."
   ]
  },
  {
   "cell_type": "code",
   "execution_count": 27,
   "id": "f39ccbfc",
   "metadata": {},
   "outputs": [
    {
     "name": "stdout",
     "output_type": "stream",
     "text": [
      "PTD-M3,Java Full Stack Development\n",
      "PTD-M3,Java Full Stack Development\n",
      "PTD-M3,Java Full Stack Development\n"
     ]
    }
   ],
   "source": [
    "class Pyspiders:\n",
    "    Batch_Code='PTD-M3'                      \n",
    "    Course='Python Full Stack Development'\n",
    "    \n",
    "p1=Pyspiders()\n",
    "p2=Pyspiders()\n",
    "p3=Pyspiders()\n",
    "\n",
    "Pyspiders.Course='Java Full Stack Development' \n",
    "\n",
    "print(p1.Batch_Code,p1.Course,sep=',')\n",
    "print(p2.Batch_Code,p2.Course,sep=',')\n",
    "print(p3.Batch_Code,p3.Course,sep=',')"
   ]
  },
  {
   "cell_type": "code",
   "execution_count": 31,
   "id": "239f7b26",
   "metadata": {},
   "outputs": [
    {
     "name": "stdout",
     "output_type": "stream",
     "text": [
      "4 legs,Herbivores\n",
      "4 legs,Herbivores\n"
     ]
    }
   ],
   "source": [
    "class Animals:\n",
    "    no_of_legs='4 legs'\n",
    "    category='Carnivores'\n",
    "    \n",
    "a1=Animals()\n",
    "a2=Animals()\n",
    "\n",
    "Animals.category='Herbivores'\n",
    "\n",
    "print(a1.no_of_legs,a1.category,sep=',')\n",
    "print(a2.no_of_legs,a2.category,sep=',')"
   ]
  },
  {
   "cell_type": "code",
   "execution_count": 37,
   "id": "4eb6bc5b",
   "metadata": {},
   "outputs": [
    {
     "name": "stdout",
     "output_type": "stream",
     "text": [
      "PTD-M3,Python Full Stack Development\n",
      "PTD-M3,Java Full Stack Development\n",
      "PTD-M3,Python Full Stack Development\n",
      "----------------------------------------\n",
      "PTD-M3,Python Full Stack Development\n"
     ]
    }
   ],
   "source": [
    "class Pyspiders:\n",
    "    Batch_Code='PTD-M3'\n",
    "    Course='Python Full Stack Development'\n",
    "    \n",
    "p1=Pyspiders()\n",
    "p2=Pyspiders()\n",
    "p3=Pyspiders()\n",
    "\n",
    "p2.Course='Java Full Stack Development'\n",
    "\n",
    "print(p1.Batch_Code,p1.Course,sep=',')\n",
    "print(p2.Batch_Code,p2.Course,sep=',')\n",
    "print(p3.Batch_Code,p3.Course,sep=',')\n",
    "\n",
    "print('-'*40)\n",
    "\n",
    "print(Pyspiders.Batch_Code,Pyspiders.Course,sep=',')"
   ]
  },
  {
   "cell_type": "code",
   "execution_count": 9,
   "id": "72b06602",
   "metadata": {},
   "outputs": [
    {
     "name": "stdout",
     "output_type": "stream",
     "text": [
      "balaji roshni\n"
     ]
    }
   ],
   "source": [
    "class Pyspiders:\n",
    "    Batch='PTD-M3'\n",
    "    Course='Python Full Stack Development'\n",
    "    \n",
    "p1=Pyspiders()\n",
    "p2=Pyspiders()\n",
    "\n",
    "def details(self,name,age):\n",
    "    self.name=name\n",
    "    self.age=age\n",
    "    \n",
    "details(p1,'balaji',24)\n",
    "details(p2,'roshni',21)\n",
    "\n",
    "print(p1.name,p2.name,sep=' ')"
   ]
  },
  {
   "cell_type": "markdown",
   "id": "3eb9e81b",
   "metadata": {},
   "source": [
    "## Object Members/attributes/variables"
   ]
  },
  {
   "cell_type": "markdown",
   "id": "f84a304c",
   "metadata": {},
   "source": [
    "Object members are initialized inside the constructor.\n",
    "\n",
    "Objects members can be accessed and modified using object reference/address.\n",
    "\n",
    "If we try to modify object members using object refrences,then it will change only for the specific object."
   ]
  },
  {
   "cell_type": "code",
   "execution_count": 10,
   "id": "d7eb8026",
   "metadata": {},
   "outputs": [
    {
     "name": "stdout",
     "output_type": "stream",
     "text": [
      "Roshni,balaji,Pari\n"
     ]
    }
   ],
   "source": [
    "class Pyspiders:\n",
    "    Course='Python Full Stach Development'\n",
    "    Batch_Code='PTD-M3'\n",
    "    \n",
    "    def __init__(self,name,age,mail):\n",
    "        self.name=name\n",
    "        self.age=age\n",
    "        self.mail=mail\n",
    "\n",
    "\n",
    "p1=Pyspiders('Roshni',21,'Rosh@gmail.com')\n",
    "p2=Pyspiders('Bapi',24,'Bapi@gmail.com')\n",
    "p3=Pyspiders('Pari',21,'abcd@gmail.com')\n",
    "\n",
    "p2.name='balaji'\n",
    "print(p1.name,p2.name,p3.name,sep=',')"
   ]
  },
  {
   "cell_type": "markdown",
   "id": "5ae98618",
   "metadata": {},
   "source": [
    "## Constructors"
   ]
  },
  {
   "cell_type": "markdown",
   "id": "3eee04ce",
   "metadata": {},
   "source": [
    "Constructors is a magic method.\n",
    "\n",
    "It is called when an object is created.\n",
    "\n",
    "It takes one mandatory argument i.e. self- which stores the address of object.\n",
    "\n",
    "It is called to initialize the object members."
   ]
  },
  {
   "cell_type": "code",
   "execution_count": 2,
   "id": "fb674632",
   "metadata": {},
   "outputs": [
    {
     "name": "stdout",
     "output_type": "stream",
     "text": [
      "Balaji Roshni Babul\n"
     ]
    }
   ],
   "source": [
    "class Bank:\n",
    "    Bank_Name='HSBC Bank'   #class members\n",
    "    IFSC_Code='IF0000002324'\n",
    "    Branch_Name='Marathahalli'\n",
    "    ROI=2.5\n",
    "    \n",
    "    def __init__(self,Name,AccNo,MobileNo,Balance):\n",
    "        self.Name=Name\n",
    "        self.AccNo=AccNo\n",
    "        self.MobileNo=MobileNo\n",
    "        self.Balance=Balance\n",
    "        \n",
    "\n",
    "b1=Bank('Balaji',3456127823421,7789993833,75000)\n",
    "b2=Bank('Roshni',5612443565535,7735757767,50600)\n",
    "b3=Bank('Babul',71791639926109,9018399290,98000)\n",
    "\n",
    "print(b1.Name,b2.Name,b3.Name,sep=' ')"
   ]
  },
  {
   "cell_type": "markdown",
   "id": "2f4aa086",
   "metadata": {},
   "source": [
    "## Types of methods"
   ]
  },
  {
   "cell_type": "markdown",
   "id": "1f233c8d",
   "metadata": {},
   "source": [
    "Behaviour of the object is defined with the help of various methods :\n",
    "    \n",
    "    i-Static method\n",
    "    \n",
    "    ii-Class method\n",
    "    \n",
    "    iii-Object method"
   ]
  },
  {
   "cell_type": "markdown",
   "id": "d9d638bc",
   "metadata": {},
   "source": [
    "## Object method"
   ]
  },
  {
   "cell_type": "markdown",
   "id": "eb710354",
   "metadata": {},
   "source": [
    "It is used to access and modify the object members.\n",
    "\n",
    "It takes mandatory argument self, that stores the address of object.\n",
    "\n",
    "It is called with the help of object reference."
   ]
  },
  {
   "cell_type": "markdown",
   "id": "8e8ddbd7",
   "metadata": {},
   "source": [
    "## Class method"
   ]
  },
  {
   "cell_type": "markdown",
   "id": "9f3c9fec",
   "metadata": {},
   "source": [
    "It is created with the help of @classmethod decorator.\n",
    "\n",
    "It used to access and modify the class members.\n",
    "\n",
    "It takes mandatory argument cls, that stores the address of class.\n",
    "\n",
    "It is called with the help of both class and object reference."
   ]
  },
  {
   "cell_type": "markdown",
   "id": "32f23227",
   "metadata": {},
   "source": [
    "## Static method"
   ]
  },
  {
   "cell_type": "markdown",
   "id": "04a6bf25",
   "metadata": {},
   "source": [
    "It is created with the help of @staticmethod decorator.\n",
    "\n",
    "It cannot modify or access any data members.\n",
    "\n",
    "It takes zero argument.\n",
    "\n",
    "It is called with the help of both class and object reference."
   ]
  },
  {
   "cell_type": "code",
   "execution_count": 32,
   "id": "d91dcae5",
   "metadata": {},
   "outputs": [
    {
     "name": "stdout",
     "output_type": "stream",
     "text": [
      "M1 of class A - object method\n",
      "M2 of class A - class method\n",
      "M3 of class A - static method\n"
     ]
    }
   ],
   "source": [
    "class A:\n",
    "    def method1(self):                         #object method\n",
    "        print('M1 of class A - object method')\n",
    "        \n",
    "    @classmethod\n",
    "    def method2(cls):                          #class method\n",
    "        print('M2 of class A - class method')\n",
    "        \n",
    "    @staticmethod\n",
    "    def method3():                             #static method\n",
    "        print('M3 of class A - static method')\n",
    "        \n",
    "\n",
    "a1=A()\n",
    "a1.method1()\n",
    "a1.method2()\n",
    "a1.method3()"
   ]
  },
  {
   "cell_type": "markdown",
   "id": "19e1a63e",
   "metadata": {},
   "source": [
    "##### Developing Bank system using oops concept-"
   ]
  },
  {
   "cell_type": "code",
   "execution_count": 1,
   "id": "62f5ccba",
   "metadata": {},
   "outputs": [
    {
     "name": "stdout",
     "output_type": "stream",
     "text": [
      "Enter a 4-digit pin 1234\n",
      "Balaji has account balance of 75000.\n",
      "Enter the amount for deposit 2300\n",
      "The amount after deposit is 77300\n",
      "Enter the amount to withdraw 2300\n",
      "The amount after withdraw is 75000\n",
      "Enter the old pin 1234\n",
      "Enter the new pin 2345\n",
      "Re-enter the new pin 2345\n",
      "Enter a 4-digit pin 2345\n",
      "Try again...\n",
      "The roi has been changed to 3.5.\n"
     ]
    }
   ],
   "source": [
    "class Bank:\n",
    "    Bank_Name='HSBC Bank'\n",
    "    IFSC_Code='IF0000002324'\n",
    "    Branch_Name='Marathahalli'\n",
    "    ROI=2.5\n",
    "    \n",
    "    def __init__(self,Name,AccNo,MobileNo,Balance,pin):\n",
    "        self.Name=Name\n",
    "        self.AccNo=AccNo\n",
    "        self.MobileNo=MobileNo\n",
    "        self.Balance=Balance\n",
    "        self.pin=pin\n",
    "        \n",
    "    \n",
    "    def check_balance(self):\n",
    "        if self.pin==self.validate():\n",
    "            return f'{self.Name} has account balance of {self.Balance}.'\n",
    "        else:\n",
    "            return 'Incorrect Pin'\n",
    "        \n",
    "    def withdraw(self):\n",
    "        amt=int(input(\"Enter the amount to withdraw \"))\n",
    "        if amt<=self.Balance:\n",
    "            self.Balance-=amt\n",
    "            return f'The amount after withdraw is {self.Balance}'\n",
    "        else:\n",
    "            return 'Insufficient Balance'\n",
    "        \n",
    "    def deposit(self):\n",
    "        amt=int(input(\"Enter the amount for deposit \"))\n",
    "        self.Balance+=amt\n",
    "        return f'The amount after deposit is {self.Balance}'\n",
    "    \n",
    "    def change_pin(self):\n",
    "        old_pin=int(input('Enter the old pin '))\n",
    "        new_pin1=int(input('Enter the new pin '))\n",
    "        new_pin2=int(input('Re-enter the new pin '))\n",
    "        \n",
    "        if old_pin!=new_pin1 and new_pin1==new_pin2:\n",
    "            return 'Pin has been changed successfully...'\n",
    "        else:\n",
    "            return 'Try again...'\n",
    "        \n",
    "    @classmethod\n",
    "    def change_roi(cls):\n",
    "        cls.roi=3.5\n",
    "        return f'The roi has been changed to {cls.roi}.'\n",
    "        \n",
    "    @staticmethod\n",
    "    def validate():\n",
    "        return int(input('Enter a 4-digit pin '))\n",
    "\n",
    "b1=Bank('Balaji',3456127823421,7789993833,75000,1234)\n",
    "\n",
    "print(b1.check_balance())\n",
    "print(b1.deposit())\n",
    "print(b1.withdraw())\n",
    "print(b1.change_pin())\n",
    "print(b1.change_roi())"
   ]
  },
  {
   "cell_type": "markdown",
   "id": "f98e74c5",
   "metadata": {},
   "source": [
    "## Features of OOPs Concept"
   ]
  },
  {
   "cell_type": "markdown",
   "id": "0f2bb638",
   "metadata": {},
   "source": [
    "i- Inheritance\n",
    "\n",
    "ii- Encapsulation\n",
    "\n",
    "iii- Polymorphism\n",
    "\n",
    "iv- Abstraction"
   ]
  },
  {
   "cell_type": "markdown",
   "id": "53104c7a",
   "metadata": {},
   "source": [
    "## Inheritance"
   ]
  },
  {
   "cell_type": "markdown",
   "id": "c0965e62",
   "metadata": {},
   "source": [
    "It is a process of inheriting properties from one class to another class.\n",
    "\n",
    "Types of inheritance are:\n",
    "    \n",
    "    i-Single inheritance\n",
    "    \n",
    "    ii-Multiple inheritance\n",
    "    \n",
    "    iii-Multilevel inheritance\n",
    "    \n",
    "    iv-Hierachical inheritance\n",
    "    \n",
    "    v-Hybrid inheritance"
   ]
  },
  {
   "cell_type": "markdown",
   "id": "c5e0b048",
   "metadata": {},
   "source": [
    "##### Single level inheritance"
   ]
  },
  {
   "cell_type": "markdown",
   "id": "a325446b",
   "metadata": {},
   "source": [
    "It is the process of inheriting the properties from one parent class to one child class."
   ]
  },
  {
   "cell_type": "code",
   "execution_count": 46,
   "id": "a190b3b5",
   "metadata": {},
   "outputs": [
    {
     "name": "stdout",
     "output_type": "stream",
     "text": [
      "60\n"
     ]
    }
   ],
   "source": [
    "class P:\n",
    "    a=20\n",
    "    b=40\n",
    "    \n",
    "class Q(P):\n",
    "    add=P.a+P.b\n",
    "    print(add)\n",
    "    \n",
    "obj=Q()"
   ]
  },
  {
   "cell_type": "markdown",
   "id": "9b0b242d",
   "metadata": {},
   "source": [
    "##### Multi level inheritance"
   ]
  },
  {
   "cell_type": "markdown",
   "id": "0425183c",
   "metadata": {},
   "source": [
    "It is the process of inheriting the properties from one child class to another child class."
   ]
  },
  {
   "cell_type": "code",
   "execution_count": 48,
   "id": "1abdf6f5",
   "metadata": {},
   "outputs": [
    {
     "name": "stdout",
     "output_type": "stream",
     "text": [
      "80\n"
     ]
    }
   ],
   "source": [
    "class P:\n",
    "    a=20\n",
    "    \n",
    "class Q(P):\n",
    "    c=30\n",
    "    d=c+P.a\n",
    "    \n",
    "class R(Q):\n",
    "    add=Q.c+Q.d\n",
    "    print(add)\n",
    "    \n",
    "obj=C()"
   ]
  },
  {
   "cell_type": "markdown",
   "id": "3ea9b356",
   "metadata": {},
   "source": [
    "##### Multiple inheritance"
   ]
  },
  {
   "cell_type": "markdown",
   "id": "399a37f5",
   "metadata": {},
   "source": [
    "It is the process of inheriting the properties from multiple parent class to one child class. "
   ]
  },
  {
   "cell_type": "code",
   "execution_count": 42,
   "id": "1d0c1b0c",
   "metadata": {},
   "outputs": [
    {
     "name": "stdout",
     "output_type": "stream",
     "text": [
      " add2 = 578\n"
     ]
    }
   ],
   "source": [
    "class A:\n",
    "    a,b=11,190\n",
    "\n",
    "class B:\n",
    "    c,d=56,321\n",
    "\n",
    "class C(A,B):\n",
    "    add2=A.a+A.b+B.c+B.d\n",
    "    print(f' add2 = {add2}')\n",
    "\n",
    "obj1=C()"
   ]
  },
  {
   "cell_type": "markdown",
   "id": "06c34cec",
   "metadata": {},
   "source": [
    "##### Hierarchial inheritance"
   ]
  },
  {
   "cell_type": "markdown",
   "id": "bc0b30b1",
   "metadata": {},
   "source": [
    "It is the process of inheriting the properties from one parent class to multiple child classes."
   ]
  },
  {
   "cell_type": "code",
   "execution_count": 40,
   "id": "eae6d0cb",
   "metadata": {},
   "outputs": [
    {
     "name": "stdout",
     "output_type": "stream",
     "text": [
      " add1 = 377\n",
      " add2 = 201\n"
     ]
    }
   ],
   "source": [
    "class A:\n",
    "    a,b,c,d=56,321,11,190\n",
    "\n",
    "class B(A):\n",
    "    add1=A.a+A.b\n",
    "    print(f' add1 = {add1}')\n",
    "\n",
    "class C(A):\n",
    "    add2=A.c+A.d\n",
    "    print(f' add2 = {add2}')\n",
    "\n",
    "obj1=B()\n",
    "obj2=C()"
   ]
  },
  {
   "cell_type": "markdown",
   "id": "cf2cb250",
   "metadata": {},
   "source": [
    "##### Hybrid inheritance"
   ]
  },
  {
   "cell_type": "markdown",
   "id": "c53fbb69",
   "metadata": {},
   "source": [
    "It is the combination of more than one type of inheritance."
   ]
  },
  {
   "cell_type": "code",
   "execution_count": 6,
   "id": "ba63f1a5",
   "metadata": {},
   "outputs": [
    {
     "name": "stdout",
     "output_type": "stream",
     "text": [
      "210\n"
     ]
    }
   ],
   "source": [
    "class A:   \n",
    "    a=40\n",
    "\n",
    "class B:\n",
    "    b=30\n",
    "    \n",
    "class C(A):                #single level inheritance\n",
    "    c=50\n",
    "    add1=c+A.a\n",
    "    \n",
    "class D(B):                #single level inheritance\n",
    "    d=90\n",
    "    add2=d+B.b\n",
    "    \n",
    "class E(C,D):              #multiple inheritance\n",
    "    add3=C.add1+D.add2\n",
    "    print(add3)\n",
    "    \n",
    "obj=E()"
   ]
  },
  {
   "cell_type": "markdown",
   "id": "13bdb185",
   "metadata": {},
   "source": [
    "## Constructor Chaining"
   ]
  },
  {
   "cell_type": "markdown",
   "id": "5eb96766",
   "metadata": {},
   "source": [
    "It is the process of calling parent class constructor from child class constructor, when child class constructor \n",
    "overrides the parent class constructor.\n",
    "\n",
    "It is perfomed with the help of : super method and class name.\n",
    "\n",
    "syntax -\n",
    "\n",
    "->super().__init__()\n",
    "\n",
    "->classname.__init__(self)"
   ]
  },
  {
   "cell_type": "code",
   "execution_count": 39,
   "id": "10bfde90",
   "metadata": {},
   "outputs": [
    {
     "name": "stdout",
     "output_type": "stream",
     "text": [
      "Class B constructor\n"
     ]
    }
   ],
   "source": [
    "class A:\n",
    "    def __init__(self):\n",
    "        print(\"Class A constructor\")\n",
    "        \n",
    "class B(A):\n",
    "    def __init__(self):\n",
    "        print(\"Class B constructor\")\n",
    "        \n",
    "obj=B()"
   ]
  },
  {
   "cell_type": "markdown",
   "id": "6112c76b",
   "metadata": {},
   "source": [
    "##### Using super method:"
   ]
  },
  {
   "cell_type": "code",
   "execution_count": 1,
   "id": "9dc22aae",
   "metadata": {},
   "outputs": [
    {
     "name": "stdout",
     "output_type": "stream",
     "text": [
      "Class A constructor\n",
      "Class B constructor\n"
     ]
    }
   ],
   "source": [
    "class A:\n",
    "    def __init__(self):\n",
    "        print(\"Class A constructor\")\n",
    "        \n",
    "class B(A):\n",
    "    def __init__(self):\n",
    "        super().__init__()\n",
    "        print(\"Class B constructor\")\n",
    "        \n",
    "obj=B()"
   ]
  },
  {
   "cell_type": "code",
   "execution_count": 9,
   "id": "5b268300",
   "metadata": {},
   "outputs": [
    {
     "name": "stdout",
     "output_type": "stream",
     "text": [
      "Class A constructor\n",
      "Class B constructor\n",
      "Class C constructor\n"
     ]
    }
   ],
   "source": [
    "class A:\n",
    "    def __init__(self):\n",
    "        print(\"Class A constructor\")\n",
    "        \n",
    "class B(A):\n",
    "    def __init__(self):\n",
    "        super().__init__()\n",
    "        print(\"Class B constructor\")\n",
    "        \n",
    "class C(B):\n",
    "    def __init__(self):\n",
    "        super().__init__()\n",
    "        print(\"Class C constructor\")\n",
    "        \n",
    "obj=C()"
   ]
  },
  {
   "cell_type": "markdown",
   "id": "c8539f7c",
   "metadata": {},
   "source": [
    "##### Using classname:"
   ]
  },
  {
   "cell_type": "markdown",
   "id": "8e26123d",
   "metadata": {},
   "source": [
    "In multiple inheritance, constructor chaining can not be performed using super method.\n",
    "\n",
    "It can be done using class name."
   ]
  },
  {
   "cell_type": "code",
   "execution_count": 2,
   "id": "06b30922",
   "metadata": {},
   "outputs": [
    {
     "name": "stdout",
     "output_type": "stream",
     "text": [
      "Class B constructor\n",
      "Class C constructor\n"
     ]
    }
   ],
   "source": [
    "class A:\n",
    "    def __init__(self):\n",
    "        print('Class A constructor')\n",
    "    \n",
    "class B():\n",
    "    def __init__(self):\n",
    "        print(\"Class B constructor\")\n",
    "        \n",
    "class C(B,A):\n",
    "    def __init__(self):\n",
    "        super().__init__()\n",
    "        print(\"Class C constructor\")\n",
    "        \n",
    "        \n",
    "obj=C()"
   ]
  },
  {
   "cell_type": "markdown",
   "id": "f7fc6650",
   "metadata": {},
   "source": [
    "Using super method in multiple inheritance takes the immediate parent class. "
   ]
  },
  {
   "cell_type": "code",
   "execution_count": 10,
   "id": "b64e3508",
   "metadata": {},
   "outputs": [
    {
     "name": "stdout",
     "output_type": "stream",
     "text": [
      "Class A constructor\n",
      "Class B constructor\n",
      "Class C constructor\n"
     ]
    }
   ],
   "source": [
    "class A:\n",
    "    def __init__(self):\n",
    "        print('Class A constructor')\n",
    "    \n",
    "class B():\n",
    "    def __init__(self):\n",
    "        print(\"Class B constructor\")\n",
    "        \n",
    "class C(A,B):\n",
    "    def __init__(self):\n",
    "        A.__init__(self)\n",
    "        B.__init__(self)\n",
    "        print(\"Class C constructor\")\n",
    "        \n",
    "        \n",
    "obj=C()"
   ]
  },
  {
   "cell_type": "markdown",
   "id": "a08d0c5d",
   "metadata": {},
   "source": [
    "##### Devloping whatsapp versions using oops concept-"
   ]
  },
  {
   "cell_type": "code",
   "execution_count": 10,
   "id": "46fefa45",
   "metadata": {},
   "outputs": [
    {
     "name": "stdout",
     "output_type": "stream",
     "text": [
      "text message\n",
      "Voice message\n",
      "Audio message\n",
      "--------------------\n",
      "sending photo files\n",
      "sending audio files\n",
      "sending video files\n",
      "--------------------\n",
      "voice calls\n",
      "video calls\n"
     ]
    }
   ],
   "source": [
    "class w_v1:\n",
    "    def message(self):\n",
    "        print('text message')\n",
    "    def send(self):\n",
    "        print('sending photo files')\n",
    "        \n",
    "class w_v2(w_v1):\n",
    "    def message(self):\n",
    "        super().message()\n",
    "        print('Voice message')\n",
    "    def send(self):\n",
    "        super().send()\n",
    "        print('sending audio files')\n",
    "        \n",
    "class w_v3(w_v2):\n",
    "    def message(self):\n",
    "        super().message()\n",
    "        print('Audio message')\n",
    "    def send(self):\n",
    "        super().send()\n",
    "        print('sending video files')\n",
    "        \n",
    "class w_v4(w_v3):\n",
    "    def call(self):\n",
    "        print('voice calls')\n",
    "        \n",
    "class w_v5(w_v4):\n",
    "    def call(self):\n",
    "        super().call()\n",
    "        print('video calls')\n",
    "        \n",
    "w=w_v3()\n",
    "w.message()\n",
    "print('-'*20)\n",
    "w.send()\n",
    "print('-'*20)\n",
    "w1=w_v5()\n",
    "w1.call()"
   ]
  },
  {
   "cell_type": "markdown",
   "id": "0e954844",
   "metadata": {},
   "source": [
    "In multiple inheritance, constructor chaining is not performed using super() method, as it takes the immediate parent class.\n",
    "\n",
    "Constructor chaining can be performed with the help of class name in multiple inheritance."
   ]
  },
  {
   "cell_type": "code",
   "execution_count": 13,
   "id": "8769b8cb",
   "metadata": {},
   "outputs": [
    {
     "name": "stdout",
     "output_type": "stream",
     "text": [
      "Class A constructor\n",
      "Class B constructor\n",
      "Class C constructor\n"
     ]
    }
   ],
   "source": [
    "class A:\n",
    "    def __init__(self):\n",
    "        print('Class A constructor')\n",
    "        \n",
    "class B:\n",
    "    def __init__(self):\n",
    "        print('Class B constructor')\n",
    "        \n",
    "class C(A,B):\n",
    "    def __init__(self):\n",
    "        A.__init__(self)\n",
    "        B.__init__(self)\n",
    "        print('Class C constructor')\n",
    "        \n",
    "c1=C()\n"
   ]
  },
  {
   "cell_type": "code",
   "execution_count": 4,
   "id": "b9e6841a",
   "metadata": {},
   "outputs": [
    {
     "name": "stdout",
     "output_type": "stream",
     "text": [
      "roshni // 4561234578 // 2002manaswini@gmail.com // 234156431\n"
     ]
    }
   ],
   "source": [
    "class Bank:\n",
    "    BankName='HSBC Bank'\n",
    "    ROI=2.7 \n",
    "    \n",
    "    def __init__(self,name,accno,phno,bal):\n",
    "        self.name=name\n",
    "        self.accno=accno\n",
    "        self.phno=phno\n",
    "        self.bal=bal\n",
    "        \n",
    "        \n",
    "class Bank2(Bank):\n",
    "    def __init__(self,name,accno,phno,bal,pan,mail):\n",
    "        super().__init__(name,accno,phno,bal)\n",
    "        self.pan=pan\n",
    "        self.mail=mail\n",
    "        \n",
    "b1=Bank2('roshni',4561234578,7735757767,75900,234156431,'2002manaswini@gmail.com')\n",
    "print(b1.name,b1.accno,b1.mail,b1.pan,sep=' // ')"
   ]
  },
  {
   "cell_type": "markdown",
   "id": "903a111e",
   "metadata": {},
   "source": [
    "## Method Chaining"
   ]
  },
  {
   "cell_type": "markdown",
   "id": "41330cf8",
   "metadata": {},
   "source": [
    "Method chaining is performed only if the method present in the parent class is overriden by the method present in the child class. "
   ]
  },
  {
   "cell_type": "code",
   "execution_count": 1,
   "id": "20015128",
   "metadata": {},
   "outputs": [
    {
     "name": "stdout",
     "output_type": "stream",
     "text": [
      "method2 of class B\n"
     ]
    }
   ],
   "source": [
    "class A:\n",
    "    def method1(self):\n",
    "        print('method1 of class A')\n",
    "        \n",
    "class B(A):\n",
    "    def method2(self):\n",
    "        print('method2 of class B')\n",
    "        \n",
    "obj=B()\n",
    "obj.method2()"
   ]
  },
  {
   "cell_type": "markdown",
   "id": "e3164bc4",
   "metadata": {},
   "source": [
    "##### Using method chaining"
   ]
  },
  {
   "cell_type": "code",
   "execution_count": 14,
   "id": "dd8bc6c8",
   "metadata": {},
   "outputs": [
    {
     "name": "stdout",
     "output_type": "stream",
     "text": [
      "method1 of class A\n",
      "method2 of class B\n"
     ]
    }
   ],
   "source": [
    "class A:\n",
    "    def method1(self):\n",
    "        print('method1 of class A')\n",
    "        \n",
    "class B(A):\n",
    "    def method2(self):\n",
    "        super().method1()\n",
    "        print('method2 of class B')\n",
    "        \n",
    "obj=B()\n",
    "obj.method2()"
   ]
  },
  {
   "cell_type": "code",
   "execution_count": 15,
   "id": "88458d2e",
   "metadata": {},
   "outputs": [
    {
     "name": "stdout",
     "output_type": "stream",
     "text": [
      "method1 of class A\n",
      "method2 of class B\n",
      "method3 of class C\n"
     ]
    }
   ],
   "source": [
    "class A:\n",
    "    def method1(self):\n",
    "        print('method1 of class A')\n",
    "        \n",
    "class B:\n",
    "    def method2(self):\n",
    "        print('method2 of class B')\n",
    "        \n",
    "class C(A,B):\n",
    "    def method3(self):\n",
    "        A.method1(self)\n",
    "        B.method2(self)\n",
    "        print('method3 of class C')\n",
    "        \n",
    "obj=C()\n",
    "obj.method3()"
   ]
  },
  {
   "cell_type": "markdown",
   "id": "973543d0",
   "metadata": {},
   "source": [
    "## Method Resolution Order(MRO)"
   ]
  },
  {
   "cell_type": "markdown",
   "id": "0795b503",
   "metadata": {},
   "source": [
    "It is the process of resolving data members and methods."
   ]
  },
  {
   "cell_type": "code",
   "execution_count": 5,
   "id": "ba2fa295",
   "metadata": {},
   "outputs": [
    {
     "name": "stdout",
     "output_type": "stream",
     "text": [
      "[<class '__main__.D'>, <class '__main__.B'>, <class '__main__.C'>, <class '__main__.A'>, <class 'object'>]\n"
     ]
    }
   ],
   "source": [
    "class A:\n",
    "    pass\n",
    "class B(A):\n",
    "    pass\n",
    "class C(A):\n",
    "    pass\n",
    "class D(B,C):\n",
    "    pass\n",
    "\n",
    "print(D.mro())"
   ]
  },
  {
   "cell_type": "code",
   "execution_count": 8,
   "id": "862a3db3",
   "metadata": {},
   "outputs": [
    {
     "name": "stdout",
     "output_type": "stream",
     "text": [
      "[<class '__main__.E'>, <class '__main__.D'>, <class '__main__.B'>, <class '__main__.C'>, <class '__main__.A'>, <class 'object'>]\n"
     ]
    }
   ],
   "source": [
    "class A:\n",
    "    pass\n",
    "class B(A):\n",
    "    pass\n",
    "class C(A):\n",
    "    pass\n",
    "class D(B,C):\n",
    "    pass\n",
    "class E(D):\n",
    "    pass\n",
    "\n",
    "print(E.mro())"
   ]
  },
  {
   "cell_type": "markdown",
   "id": "2628e133",
   "metadata": {},
   "source": [
    "## Encapsulation"
   ]
  },
  {
   "cell_type": "markdown",
   "id": "cda25376",
   "metadata": {},
   "source": [
    "Binding of data members and methods together in a single unit is called as encapsulation.\n",
    "\n",
    "Real life example - a group of building i.e. apartment , a group of IT companies i.e. tech parks."
   ]
  },
  {
   "cell_type": "code",
   "execution_count": 4,
   "id": "677080a7",
   "metadata": {},
   "outputs": [
    {
     "name": "stdout",
     "output_type": "stream",
     "text": [
      "30\n",
      "20\n",
      "50\n",
      "------------------------------\n",
      "30\n",
      "20\n"
     ]
    },
    {
     "ename": "AttributeError",
     "evalue": "'A' object has no attribute '__c'",
     "output_type": "error",
     "traceback": [
      "\u001b[1;31m---------------------------------------------------------------------------\u001b[0m",
      "\u001b[1;31mAttributeError\u001b[0m                            Traceback (most recent call last)",
      "\u001b[1;32m~\\AppData\\Local\\Temp/ipykernel_8716/609131286.py\u001b[0m in \u001b[0;36m<module>\u001b[1;34m\u001b[0m\n\u001b[0;32m     17\u001b[0m \u001b[0mprint\u001b[0m\u001b[1;33m(\u001b[0m\u001b[0mobj\u001b[0m\u001b[1;33m.\u001b[0m\u001b[0ma\u001b[0m\u001b[1;33m)\u001b[0m\u001b[1;33m\u001b[0m\u001b[1;33m\u001b[0m\u001b[0m\n\u001b[0;32m     18\u001b[0m \u001b[0mprint\u001b[0m\u001b[1;33m(\u001b[0m\u001b[0mobj\u001b[0m\u001b[1;33m.\u001b[0m\u001b[0m_b\u001b[0m\u001b[1;33m)\u001b[0m\u001b[1;33m\u001b[0m\u001b[1;33m\u001b[0m\u001b[0m\n\u001b[1;32m---> 19\u001b[1;33m \u001b[0mprint\u001b[0m\u001b[1;33m(\u001b[0m\u001b[0mobj\u001b[0m\u001b[1;33m.\u001b[0m\u001b[0m__c\u001b[0m\u001b[1;33m)\u001b[0m\u001b[1;33m\u001b[0m\u001b[1;33m\u001b[0m\u001b[0m\n\u001b[0m",
      "\u001b[1;31mAttributeError\u001b[0m: 'A' object has no attribute '__c'"
     ]
    }
   ],
   "source": [
    "class A:\n",
    "    def __init__(self):\n",
    "        self.a=30\n",
    "        self._b=20\n",
    "        self.__c=50\n",
    "        \n",
    "    def method(self):\n",
    "        print(self.a)\n",
    "        print(self._b)\n",
    "        print(self.__c)\n",
    "        \n",
    "obj=A()\n",
    "obj.method()\n",
    "\n",
    "print('-'*30)\n",
    "\n",
    "print(obj.a)\n",
    "print(obj._b)\n",
    "print(obj.__c)"
   ]
  },
  {
   "cell_type": "markdown",
   "id": "817966cc",
   "metadata": {},
   "source": [
    "## Access Modifiers"
   ]
  },
  {
   "cell_type": "markdown",
   "id": "f230eda2",
   "metadata": {},
   "source": [
    "There are 3 types of access modifiers:\n",
    "    \n",
    "i-Public access modifier\n",
    "\n",
    "ii-Protected access modifier\n",
    "\n",
    "iii-Private access modifier"
   ]
  },
  {
   "cell_type": "markdown",
   "id": "f2a02c73",
   "metadata": {},
   "source": [
    "##### Public access modifier"
   ]
  },
  {
   "cell_type": "markdown",
   "id": "ca85285f",
   "metadata": {},
   "source": [
    "By default, all variables are declared as public.\n",
    "\n",
    "We can access public variables anywhere in the same or different package."
   ]
  },
  {
   "cell_type": "markdown",
   "id": "10694640",
   "metadata": {},
   "source": [
    "##### Protected access modifier"
   ]
  },
  {
   "cell_type": "markdown",
   "id": "008074ae",
   "metadata": {},
   "source": [
    "Variables are declared as protected using single underscore(_).\n",
    "\n",
    "We can access protected data members anywhere in the same package but not in different package."
   ]
  },
  {
   "cell_type": "markdown",
   "id": "e1604d24",
   "metadata": {},
   "source": [
    "##### Private access modifier"
   ]
  },
  {
   "cell_type": "markdown",
   "id": "1f3c8bcb",
   "metadata": {},
   "source": [
    "Variables are declared as private using double underscore(_ _).\n",
    "\n",
    "Private data members are accessed only within the same class."
   ]
  },
  {
   "cell_type": "markdown",
   "id": "45a5f5ff",
   "metadata": {},
   "source": [
    "## Accessing and modifying private data members"
   ]
  },
  {
   "cell_type": "markdown",
   "id": "61da4790",
   "metadata": {},
   "source": [
    "i-getter() method\n",
    "\n",
    "ii-setter() method"
   ]
  },
  {
   "cell_type": "markdown",
   "id": "0ef7cde5",
   "metadata": {},
   "source": [
    "##### getter() method"
   ]
  },
  {
   "cell_type": "markdown",
   "id": "4bf61935",
   "metadata": {},
   "source": [
    "This method is used to access the private data members/variables outside the class."
   ]
  },
  {
   "cell_type": "code",
   "execution_count": 26,
   "id": "e3dd7341",
   "metadata": {},
   "outputs": [
    {
     "name": "stdout",
     "output_type": "stream",
     "text": [
      "300\n"
     ]
    }
   ],
   "source": [
    "class M3:\n",
    "    def __init__(self):\n",
    "        self.a=100\n",
    "        self.__b=300\n",
    "        \n",
    "    def getter(self):\n",
    "        return self.__b\n",
    "    \n",
    "obj=M3()\n",
    "print(obj.getter())"
   ]
  },
  {
   "cell_type": "markdown",
   "id": "dbc22c36",
   "metadata": {},
   "source": [
    "##### setter() method"
   ]
  },
  {
   "cell_type": "markdown",
   "id": "3b3a9046",
   "metadata": {},
   "source": [
    "This method is used to modify the values of private data members outside the class."
   ]
  },
  {
   "cell_type": "code",
   "execution_count": 31,
   "id": "15c68c90",
   "metadata": {},
   "outputs": [
    {
     "name": "stdout",
     "output_type": "stream",
     "text": [
      "30\n",
      "345\n"
     ]
    }
   ],
   "source": [
    "class mno:\n",
    "    def __init__(self):\n",
    "        self.__a=30\n",
    "        \n",
    "    def getter(self):\n",
    "        return self.__a\n",
    "    \n",
    "    def setter(self,val):\n",
    "        self.__a=val\n",
    "        return self.__a\n",
    "        \n",
    "m1=mno()\n",
    "print(m1.getter())\n",
    "print(m1.setter(345))"
   ]
  },
  {
   "cell_type": "markdown",
   "id": "243e073b",
   "metadata": {},
   "source": [
    "## Packages"
   ]
  },
  {
   "cell_type": "markdown",
   "id": "1856f309",
   "metadata": {},
   "source": [
    "Packages is nothing but some set of modules with one __init__.py file.\n",
    "\n",
    "__init__.py is an empty file."
   ]
  },
  {
   "cell_type": "markdown",
   "id": "0adf6775",
   "metadata": {},
   "source": [
    "## Library"
   ]
  },
  {
   "cell_type": "markdown",
   "id": "0e6cc737",
   "metadata": {},
   "source": [
    "Library is the collection of modules."
   ]
  },
  {
   "cell_type": "markdown",
   "id": "cd37fd7e",
   "metadata": {},
   "source": [
    "## Polymorphism"
   ]
  },
  {
   "cell_type": "markdown",
   "id": "ea25b202",
   "metadata": {},
   "source": [
    "If a task is performed in different ways, it is considered as polymorphism.\n",
    "\n",
    "One object having more than one behaviour/forms is considered as polymorphism.\n",
    "\n",
    "It can be acheived by 2 methods:\n",
    "    \n",
    "    i-run time polymorphism\n",
    "    \n",
    "    ii-compile time polymorphism"
   ]
  },
  {
   "cell_type": "markdown",
   "id": "aa3a8f71",
   "metadata": {},
   "source": [
    "##### Run time polymorphism(Overriding)"
   ]
  },
  {
   "cell_type": "markdown",
   "id": "8c8758de",
   "metadata": {},
   "source": [
    "To perform overriding, inheritance is must.\n",
    "\n",
    "Function overriding occurs only if the function/method with same name and same signature are defined in both child class and parent class.\n",
    "\n",
    "Parent class will be overriden with the child class."
   ]
  },
  {
   "cell_type": "code",
   "execution_count": 3,
   "id": "cc81f04c",
   "metadata": {},
   "outputs": [
    {
     "name": "stdout",
     "output_type": "stream",
     "text": [
      "M2 of method1\n"
     ]
    }
   ],
   "source": [
    "class A:\n",
    "    def method1(self):\n",
    "        print('M1 of method1')\n",
    "        \n",
    "class B(A):\n",
    "    def method1(self):\n",
    "        print('M2 of method1')\n",
    "        \n",
    "m=B()\n",
    "m.method1()"
   ]
  },
  {
   "cell_type": "markdown",
   "id": "b0570733",
   "metadata": {},
   "source": [
    "##### Compile time polymorphism(Overloading)"
   ]
  },
  {
   "cell_type": "markdown",
   "id": "0a2e2151",
   "metadata": {},
   "source": [
    "Overloading can be achieved if in a class, we declare multiple methods with same name and different method signature.\n",
    "\n",
    "In python,overloading is not possible as python takes the latest defined methods."
   ]
  },
  {
   "cell_type": "code",
   "execution_count": 12,
   "id": "237c557f",
   "metadata": {},
   "outputs": [
    {
     "name": "stdout",
     "output_type": "stream",
     "text": [
      "9\n"
     ]
    },
    {
     "ename": "TypeError",
     "evalue": "method1() missing 1 required positional argument: 'c'",
     "output_type": "error",
     "traceback": [
      "\u001b[1;31m---------------------------------------------------------------------------\u001b[0m",
      "\u001b[1;31mTypeError\u001b[0m                                 Traceback (most recent call last)",
      "\u001b[1;32m~\\AppData\\Local\\Temp/ipykernel_5236/2036529230.py\u001b[0m in \u001b[0;36m<module>\u001b[1;34m\u001b[0m\n\u001b[0;32m     11\u001b[0m \u001b[0mobj\u001b[0m\u001b[1;33m=\u001b[0m\u001b[0mA\u001b[0m\u001b[1;33m(\u001b[0m\u001b[1;33m)\u001b[0m\u001b[1;33m\u001b[0m\u001b[1;33m\u001b[0m\u001b[0m\n\u001b[0;32m     12\u001b[0m \u001b[0mprint\u001b[0m\u001b[1;33m(\u001b[0m\u001b[0mobj\u001b[0m\u001b[1;33m.\u001b[0m\u001b[0mmethod1\u001b[0m\u001b[1;33m(\u001b[0m\u001b[1;36m2\u001b[0m\u001b[1;33m,\u001b[0m\u001b[1;36m3\u001b[0m\u001b[1;33m,\u001b[0m\u001b[1;36m4\u001b[0m\u001b[1;33m)\u001b[0m\u001b[1;33m)\u001b[0m\u001b[1;33m\u001b[0m\u001b[1;33m\u001b[0m\u001b[0m\n\u001b[1;32m---> 13\u001b[1;33m \u001b[0mprint\u001b[0m\u001b[1;33m(\u001b[0m\u001b[0mobj\u001b[0m\u001b[1;33m.\u001b[0m\u001b[0mmethod1\u001b[0m\u001b[1;33m(\u001b[0m\u001b[1;36m2\u001b[0m\u001b[1;33m,\u001b[0m\u001b[1;36m3\u001b[0m\u001b[1;33m)\u001b[0m\u001b[1;33m)\u001b[0m\u001b[1;33m\u001b[0m\u001b[1;33m\u001b[0m\u001b[0m\n\u001b[0m\u001b[0;32m     14\u001b[0m \u001b[1;31m#it will work for the latest define methods.\u001b[0m\u001b[1;33m\u001b[0m\u001b[1;33m\u001b[0m\u001b[0m\n",
      "\u001b[1;31mTypeError\u001b[0m: method1() missing 1 required positional argument: 'c'"
     ]
    }
   ],
   "source": [
    "class A:\n",
    "    def method1(self,a):\n",
    "        return a\n",
    "        \n",
    "    def method1(self,a,b):\n",
    "        return a+b\n",
    "        \n",
    "    def method1(self,a,b,c):\n",
    "        return a+b+c\n",
    "    \n",
    "obj=A()\n",
    "print(obj.method1(2,3,4))\n",
    "print(obj.method1(2,3))\n",
    "#it will work for the latest define methods.        "
   ]
  },
  {
   "cell_type": "markdown",
   "id": "c6b3032f",
   "metadata": {},
   "source": [
    "But we can achieve the overloading process by using default arguments and variable length keyword argument."
   ]
  },
  {
   "cell_type": "code",
   "execution_count": 13,
   "id": "a00c3cd0",
   "metadata": {},
   "outputs": [
    {
     "name": "stdout",
     "output_type": "stream",
     "text": [
      "5\n",
      "18\n"
     ]
    }
   ],
   "source": [
    "class A:\n",
    "    def add(self,*args):\n",
    "        res=0\n",
    "        for num in args:\n",
    "            res+=num\n",
    "        return res\n",
    "    \n",
    "obj=A()\n",
    "print(obj.add(2,3))\n",
    "print(obj.add(8,9,1))"
   ]
  },
  {
   "cell_type": "markdown",
   "id": "6eaf3e16",
   "metadata": {},
   "source": [
    "## Abstraction"
   ]
  },
  {
   "cell_type": "markdown",
   "id": "e50d7126",
   "metadata": {},
   "source": [
    "It is the process of hiding internal implementations and showing only basic functionalities to the user.\n",
    "\n",
    "Abstract class is created by inheriting properties from ABC.\n",
    "\n",
    "Abstract method is created by using @abstractmethod decorator.\n",
    "\n",
    "We cannot create objects for abstract class."
   ]
  },
  {
   "cell_type": "code",
   "execution_count": 10,
   "id": "3047867a",
   "metadata": {},
   "outputs": [
    {
     "name": "stdout",
     "output_type": "stream",
     "text": [
      "Bhow Bhow\n",
      "Meow Meow\n"
     ]
    }
   ],
   "source": [
    "from abc import ABC,abstractmethod\n",
    "\n",
    "class Animal(ABC):\n",
    "    @abstractmethod\n",
    "    def speak(self):\n",
    "        pass\n",
    "    \n",
    "class dog(Animal):\n",
    "    def speak(self):\n",
    "        print('Bhow Bhow')\n",
    "        \n",
    "class cat(Animal):\n",
    "    def speak(self):\n",
    "        print('Meow Meow')\n",
    "        \n",
    "d1=dog()\n",
    "c1=cat()\n",
    "\n",
    "d1.speak()\n",
    "c1.speak()"
   ]
  },
  {
   "cell_type": "code",
   "execution_count": 11,
   "id": "c341a5be",
   "metadata": {},
   "outputs": [
    {
     "name": "stdout",
     "output_type": "stream",
     "text": [
      "milege : 35\n",
      "cc : 350\n",
      "------------------------------\n",
      "milege : 28\n",
      "cc : 411\n",
      "------------------------------\n",
      "milege : 15\n",
      "cc : 450\n",
      "------------------------------\n",
      "milege : 80\n",
      "cc : 500\n"
     ]
    }
   ],
   "source": [
    "from abc import ABC,abstractmethod\n",
    "\n",
    "class Royal_Enfield(ABC):\n",
    "    @abstractmethod\n",
    "    def milege(self):\n",
    "        pass\n",
    "    \n",
    "    @abstractmethod\n",
    "    def cc(self):\n",
    "        pass\n",
    "    \n",
    "class Classic(Royal_Enfield):\n",
    "    def milege(self):\n",
    "        print('milege : 35')\n",
    "    def cc(self):\n",
    "        print('cc : 350')\n",
    "        \n",
    "class Himalayan(Royal_Enfield):\n",
    "    def milege(self):\n",
    "        print('milege : 28')\n",
    "    def cc(self):\n",
    "        print('cc : 411')\n",
    "        \n",
    "class ContinentalGT(Royal_Enfield):\n",
    "    def milege(self):\n",
    "        print('milege : 15')\n",
    "    def cc(self):\n",
    "        print('cc : 450')\n",
    "        \n",
    "class ThunderBird(Royal_Enfield):\n",
    "    def milege(self):\n",
    "        print('milege : 80')\n",
    "    def cc(self):\n",
    "        print('cc : 500')\n",
    "        \n",
    "        \n",
    "c1=Classic()\n",
    "c1.milege()\n",
    "c1.cc()\n",
    "\n",
    "print('-'*30)\n",
    "\n",
    "c2=Himalayan()\n",
    "c2.milege()\n",
    "c2.cc()\n",
    "\n",
    "print('-'*30)\n",
    "\n",
    "c3=ContinentalGT()\n",
    "c3.milege()\n",
    "c3.cc()\n",
    "\n",
    "print('-'*30)\n",
    "\n",
    "c4=ThunderBird()\n",
    "c4.milege()\n",
    "c4.cc()\n"
   ]
  },
  {
   "cell_type": "markdown",
   "id": "231cb3f5",
   "metadata": {},
   "source": [
    "##### Using concrete method in abstraction:"
   ]
  },
  {
   "cell_type": "code",
   "execution_count": 15,
   "id": "d42f3b35",
   "metadata": {},
   "outputs": [
    {
     "name": "stdout",
     "output_type": "stream",
     "text": [
      "Bhow Bhow\n"
     ]
    }
   ],
   "source": [
    "from abc import ABC,abstractmethod\n",
    "\n",
    "class Animal(ABC):\n",
    "    @abstractmethod                   #abstractmethod\n",
    "    def speak(self):\n",
    "        pass\n",
    "    \n",
    "    def walk(self):                   #concrete method\n",
    "        print('walks with 4 legs')\n",
    "    \n",
    "class dog(Animal):\n",
    "    def speak(self):\n",
    "        print('Bhow Bhow')\n",
    "        \n",
    "d1=dog()\n",
    "d1.speak()"
   ]
  },
  {
   "cell_type": "markdown",
   "id": "3280cdc9",
   "metadata": {},
   "source": [
    "## Operator Overloading"
   ]
  },
  {
   "cell_type": "markdown",
   "id": "e0fe0d9b",
   "metadata": {},
   "source": [
    "It is the process of giving extended meanings to the pre-defined operations."
   ]
  },
  {
   "cell_type": "code",
   "execution_count": 8,
   "id": "a4c5e1e2",
   "metadata": {},
   "outputs": [
    {
     "name": "stdout",
     "output_type": "stream",
     "text": [
      "30\n",
      "10\n",
      "200\n"
     ]
    }
   ],
   "source": [
    "class mno:\n",
    "    def __init__(self,a):\n",
    "        self.a=a\n",
    "    def __add__(self1,self2):\n",
    "        return self1.a+self2.a\n",
    "    def __sub__(self1,self2):\n",
    "        return self1.a-self2.a\n",
    "    def __mul__(self1,self2):\n",
    "        return self1.a*self2.a\n",
    "    \n",
    "m1=mno(10)\n",
    "m2=mno(20)\n",
    "\n",
    "print(m1+m2)\n",
    "print(m2-m1)\n",
    "print(m1*m2)"
   ]
  },
  {
   "cell_type": "code",
   "execution_count": 17,
   "id": "0bac3541",
   "metadata": {},
   "outputs": [
    {
     "name": "stdout",
     "output_type": "stream",
     "text": [
      "545\n",
      "55\n",
      "73500\n",
      "1.2244897959183674\n"
     ]
    }
   ],
   "source": [
    "class calculator:\n",
    "    def __init__(self,a,b):\n",
    "        self.a=a\n",
    "        self.b=b\n",
    "        \n",
    "    def addition(self):\n",
    "        return self.a+self.b\n",
    "        \n",
    "    def substraction(self):\n",
    "        return self.a-self.b\n",
    "    \n",
    "    def multiplication(self):\n",
    "        return self.a*self.b\n",
    "    \n",
    "    def divison(self):\n",
    "        return self.a/self.b\n",
    "    \n",
    "c1=calculator(300,245)\n",
    "print(c1.addition())\n",
    "print(c1.substraction())\n",
    "print(c1.multiplication())\n",
    "print(c1.divison())"
   ]
  },
  {
   "cell_type": "markdown",
   "id": "4b868ef0",
   "metadata": {},
   "source": [
    "## Destructor"
   ]
  },
  {
   "cell_type": "markdown",
   "id": "acd334d1",
   "metadata": {},
   "source": [
    "Destructor is a magic method.\n",
    "\n",
    "It is called when an object is destroyed.\n",
    "\n",
    "It takes mandatory argument 'self' that holds the address of the object."
   ]
  },
  {
   "cell_type": "code",
   "execution_count": 24,
   "id": "3d5f0b71",
   "metadata": {},
   "outputs": [
    {
     "name": "stdout",
     "output_type": "stream",
     "text": [
      "Object is created\n",
      "Object is destroyed\n"
     ]
    }
   ],
   "source": [
    "class mno:\n",
    "    def __init__(self):\n",
    "        print('Object is created')\n",
    "    def __del__(self):\n",
    "        print('Object is destroyed')\n",
    "        \n",
    "m1=mno()\n",
    "m1\n",
    "del m1"
   ]
  },
  {
   "cell_type": "markdown",
   "id": "f42acdec",
   "metadata": {},
   "source": [
    "## Non-Local Space"
   ]
  },
  {
   "cell_type": "markdown",
   "id": "4b02b07c",
   "metadata": {},
   "source": [
    "Non-local variable are declared using nested functions.\n",
    "\n",
    "For using variables in non-local space, we have to declare it as non-local variable using non-local keywords."
   ]
  },
  {
   "cell_type": "code",
   "execution_count": 16,
   "id": "add4acf5",
   "metadata": {},
   "outputs": [
    {
     "name": "stdout",
     "output_type": "stream",
     "text": [
      "non-local : 20\n",
      "local : 30\n",
      "non local : 30\n",
      "Global : 10\n"
     ]
    }
   ],
   "source": [
    "def outer():\n",
    "    a=20                            #non-local variable \n",
    "    print(f'non-local : {a}')\n",
    "    def inner():\n",
    "        nonlocal a                  #non local variable using non-local keyword\n",
    "        a=30\n",
    "        print(f'local : {a}')\n",
    "    inner()\n",
    "    print(f'non local : {a}')\n",
    "        \n",
    "a=10\n",
    "outer()\n",
    "print(f'Global : {a}')"
   ]
  },
  {
   "cell_type": "markdown",
   "id": "fe7b934d",
   "metadata": {},
   "source": [
    "## Decorators"
   ]
  },
  {
   "cell_type": "markdown",
   "id": "fe581d93",
   "metadata": {},
   "source": [
    "Decorators are the designed pattern that allows add new functionalities to object without modifying the structure."
   ]
  },
  {
   "cell_type": "markdown",
   "id": "fe0be251",
   "metadata": {},
   "source": [
    "For creating decorators :\n",
    "    \n",
    "    i-create a nested function.\n",
    "    \n",
    "    ii-outer function takes mandatory argument.\n",
    "    \n",
    "    iii-outer function returns inner function."
   ]
  },
  {
   "cell_type": "markdown",
   "id": "1ffefb3e",
   "metadata": {},
   "source": [
    "There are 2 types of decorators :\n",
    "\n",
    "    i-user defined decorator\n",
    "    \n",
    "    ii-inbuilt decorator"
   ]
  },
  {
   "cell_type": "code",
   "execution_count": 3,
   "id": "9da00d79",
   "metadata": {},
   "outputs": [
    {
     "name": "stdout",
     "output_type": "stream",
     "text": [
      "*****\n",
      "hello\n",
      "*****\n"
     ]
    }
   ],
   "source": [
    "def outer(func):         #wrapper method or decorator function\n",
    "    def inner():\n",
    "        print('*'*5)\n",
    "        func()\n",
    "        print('*'*5)\n",
    "    return inner\n",
    "\n",
    "@outer                  #wrapped function or decorated function\n",
    "def sample():\n",
    "    print('hello')\n",
    "    \n",
    "sample()"
   ]
  },
  {
   "cell_type": "code",
   "execution_count": 1,
   "id": "46f78fcf",
   "metadata": {},
   "outputs": [
    {
     "name": "stdout",
     "output_type": "stream",
     "text": [
      "10\n",
      "80\n"
     ]
    }
   ],
   "source": [
    "def outer(func):\n",
    "    def inner(x,y):\n",
    "        if x>y:\n",
    "            func(x,y)\n",
    "        else:\n",
    "            func(y,x)\n",
    "    return inner\n",
    "\n",
    "@outer\n",
    "def sub(a,b):\n",
    "    print(a-b)\n",
    "\n",
    "sub(10,20)\n",
    "sub(100,20)"
   ]
  },
  {
   "cell_type": "markdown",
   "id": "5ce2a069",
   "metadata": {},
   "source": [
    "## SingleTon Decorator"
   ]
  },
  {
   "cell_type": "markdown",
   "id": "f9e76e0f",
   "metadata": {},
   "source": [
    "It is a designed pattern in python that allows a class to create only one object in it's lifetime."
   ]
  },
  {
   "cell_type": "code",
   "execution_count": 5,
   "id": "69cb1845",
   "metadata": {},
   "outputs": [
    {
     "name": "stdout",
     "output_type": "stream",
     "text": [
      "Object created.\n"
     ]
    }
   ],
   "source": [
    "def SingleTon(cls):\n",
    "    L=[]\n",
    "    def inner():\n",
    "        if len(L)==0:\n",
    "            L.append(cls())\n",
    "        return L[0]\n",
    "    return inner\n",
    "\n",
    "@SingleTon\n",
    "class a:\n",
    "    def __init__(self):\n",
    "        print('Object created.')\n",
    "        \n",
    "obj=a()"
   ]
  },
  {
   "cell_type": "markdown",
   "id": "630f8966",
   "metadata": {},
   "source": [
    "## Steps to create a single ton decorator:\n",
    "    \n",
    "    i-create nested function.\n",
    "    \n",
    "    ii-in nonlocal space,create a list and check if the list is empty or not.\n",
    "       If the list is empty,then give it the class address.\n",
    "        \n",
    "    iii-Once the adddress of class has been added to the list, \n",
    "        it won't allow any other objects to the address again."
   ]
  },
  {
   "cell_type": "code",
   "execution_count": null,
   "id": "59f620b0",
   "metadata": {},
   "outputs": [
    {
     "name": "stdout",
     "output_type": "stream",
     "text": [
      "1)FSG 2)days_365 3)After\n",
      "Enter an option :2\n",
      "Enter the number of tickets for booking:233\n",
      "Tickets booked successfully..\n",
      "1)FSG 2)days_365 3)After\n",
      "Enter an option :4\n",
      "Invalid Option!!\n",
      "1)FSG 2)days_365 3)After\n"
     ]
    }
   ],
   "source": [
    "def SingleTon(cls):\n",
    "    L=[]\n",
    "    def inner():\n",
    "        if len(L)==0:\n",
    "            L.append(cls())\n",
    "        return L[0]\n",
    "    return inner\n",
    "\n",
    "\n",
    "@SingleTon\n",
    "class FSG:\n",
    "    def __init__(self):\n",
    "        self.tickets=340\n",
    "    def booking(self):\n",
    "        t=int(input('Enter the number of tickets for booking:'))\n",
    "        if self.tickets>=t:\n",
    "            self.tickets-=t\n",
    "            print(\"Tickets booked successfully..\")\n",
    "        else:\n",
    "            print('Tickets not available.')\n",
    "\n",
    "\n",
    "@SingleTon\n",
    "class days_365:\n",
    "    def __init__(self):\n",
    "        self.tickets=340\n",
    "    def booking(self):\n",
    "        t=int(input('Enter the number of tickets for booking:'))\n",
    "        if self.tickets>=t:\n",
    "            self.tickets-=t\n",
    "            print(\"Tickets booked successfully..\")\n",
    "        else:\n",
    "            print('Tickets not available.')\n",
    "            \n",
    "            \n",
    "@SingleTon\n",
    "class After:\n",
    "    def __init__(self):\n",
    "        self.tickets=340\n",
    "    def booking(self):\n",
    "        t=int(input('Enter the number of tickets for booking:'))\n",
    "        if self.tickets>=t:\n",
    "            self.tickets-=t\n",
    "            print(\"Tickets booked successfully..\")\n",
    "        else:\n",
    "            print('Tickets not available.')\n",
    "\n",
    "\n",
    "def Book_my_show():\n",
    "    print('1)FSG 2)days_365 3)After')\n",
    "    option=int(input('Enter an option :'))\n",
    "    if option==1:\n",
    "        f1=FSG()\n",
    "        f1.booking()\n",
    "        \n",
    "    elif option==2:\n",
    "        d1=days_365()\n",
    "        d1.booking()\n",
    "        \n",
    "    elif option==3:\n",
    "        a1=After()\n",
    "        a1.booking()\n",
    "        \n",
    "    else:\n",
    "        print('Invalid Option!!')\n",
    "\n",
    "while(True):\n",
    "    Book_my_show()"
   ]
  },
  {
   "cell_type": "code",
   "execution_count": null,
   "id": "7f381c78",
   "metadata": {},
   "outputs": [],
   "source": []
  },
  {
   "cell_type": "code",
   "execution_count": null,
   "id": "0d169681",
   "metadata": {},
   "outputs": [],
   "source": []
  },
  {
   "cell_type": "code",
   "execution_count": null,
   "id": "e7d8ef29",
   "metadata": {},
   "outputs": [],
   "source": []
  },
  {
   "cell_type": "code",
   "execution_count": null,
   "id": "af2f4d0f",
   "metadata": {},
   "outputs": [],
   "source": []
  },
  {
   "cell_type": "code",
   "execution_count": null,
   "id": "d58caa10",
   "metadata": {},
   "outputs": [],
   "source": []
  },
  {
   "cell_type": "code",
   "execution_count": null,
   "id": "1dd71d3b",
   "metadata": {},
   "outputs": [],
   "source": []
  },
  {
   "cell_type": "code",
   "execution_count": null,
   "id": "d88b0233",
   "metadata": {},
   "outputs": [],
   "source": []
  },
  {
   "cell_type": "code",
   "execution_count": null,
   "id": "66ee86a9",
   "metadata": {},
   "outputs": [],
   "source": []
  },
  {
   "cell_type": "code",
   "execution_count": null,
   "id": "1cdfe90b",
   "metadata": {},
   "outputs": [],
   "source": []
  }
 ],
 "metadata": {
  "kernelspec": {
   "display_name": "Python 3 (ipykernel)",
   "language": "python",
   "name": "python3"
  },
  "language_info": {
   "codemirror_mode": {
    "name": "ipython",
    "version": 3
   },
   "file_extension": ".py",
   "mimetype": "text/x-python",
   "name": "python",
   "nbconvert_exporter": "python",
   "pygments_lexer": "ipython3",
   "version": "3.9.7"
  }
 },
 "nbformat": 4,
 "nbformat_minor": 5
}
