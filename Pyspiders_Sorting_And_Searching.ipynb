{
 "cells": [
  {
   "cell_type": "markdown",
   "id": "be6ccdb4",
   "metadata": {},
   "source": [
    "## Sorting Algorithms"
   ]
  },
  {
   "cell_type": "markdown",
   "id": "fc9b2cbd",
   "metadata": {},
   "source": [
    "i-Bubble Sort\n",
    "\n",
    "ii-Merge Sort\n",
    "\n",
    "iii-Insertion Sort\n",
    "\n",
    "iv-Quick Sort\n",
    "\n",
    "v-Selection Sort"
   ]
  },
  {
   "cell_type": "markdown",
   "id": "e29bbcf6",
   "metadata": {},
   "source": [
    "## Bubble Sort"
   ]
  },
  {
   "cell_type": "code",
   "execution_count": 11,
   "id": "9ac222b5",
   "metadata": {},
   "outputs": [
    {
     "name": "stdout",
     "output_type": "stream",
     "text": [
      "[1, 5, 5, 7, 14]\n"
     ]
    }
   ],
   "source": [
    "L=[5,14,7,5,1]\n",
    "n=len(L)\n",
    "\n",
    "for ev in range(n-1,0,-1):\n",
    "    for ind in range(ev):\n",
    "        if L[ind]>L[ind+1]:\n",
    "            L[ind],L[ind+1]=L[ind+1],L[ind]\n",
    "print(L)"
   ]
  },
  {
   "cell_type": "markdown",
   "id": "df969cd1",
   "metadata": {},
   "source": [
    "## Selection Sort"
   ]
  },
  {
   "cell_type": "code",
   "execution_count": 7,
   "id": "56a64bb4",
   "metadata": {},
   "outputs": [
    {
     "name": "stdout",
     "output_type": "stream",
     "text": [
      "[2, 5, 7, 8, 9, 11, 12]\n"
     ]
    }
   ],
   "source": [
    "L=[11,8,7,12,9,2,5]\n",
    "n=len(L)\n",
    "\n",
    "for ti in range(n-1):\n",
    "    li=ti\n",
    "    for ind in range(ti+1,n):\n",
    "        if L[ind]<L[li]:\n",
    "            li=ind\n",
    "    L[ti],L[li]=L[li],L[ti]\n",
    "    \n",
    "print(L)      "
   ]
  },
  {
   "cell_type": "markdown",
   "id": "47f0b59a",
   "metadata": {},
   "source": [
    "## Insertion Sort"
   ]
  },
  {
   "cell_type": "code",
   "execution_count": 12,
   "id": "641ecfc5",
   "metadata": {},
   "outputs": [
    {
     "name": "stdout",
     "output_type": "stream",
     "text": [
      "[2, 5, 7, 8, 9, 11, 12]\n"
     ]
    }
   ],
   "source": [
    "L=[11,8,7,12,9,2,5]\n",
    "n=len(L)\n",
    "\n",
    "for ti in range(1,n):\n",
    "    target,ind=L[ti],ti-1\n",
    "    while target<L[ind] and ind>=0:\n",
    "        L[ind+1]=L[ind]\n",
    "        ind-=1\n",
    "    L[ind+1]=target\n",
    "\n",
    "print(L)"
   ]
  },
  {
   "cell_type": "markdown",
   "id": "47ff1332",
   "metadata": {},
   "source": [
    "## Merge Sort"
   ]
  },
  {
   "cell_type": "code",
   "execution_count": 8,
   "id": "357e48ad",
   "metadata": {},
   "outputs": [
    {
     "data": {
      "text/plain": [
       "[1, 5, 12, 32, 34, 55, 67, 90]"
      ]
     },
     "execution_count": 8,
     "metadata": {},
     "output_type": "execute_result"
    }
   ],
   "source": [
    "def merge(L,left,right):\n",
    "    ind=ri=li=0\n",
    "    while ri<len(right) and li<len(left):\n",
    "        if right[ri]<left[li]:\n",
    "            L[ind]=right[ri]\n",
    "            ri+=1\n",
    "            ind+=1\n",
    "        else:\n",
    "            L[ind]=left[li]\n",
    "            li+=1\n",
    "            ind+=1\n",
    "    while li<len(left):\n",
    "        L[ind]=left[li]\n",
    "        li+=1\n",
    "        ind+=1\n",
    "    while ri<len(right):\n",
    "        L[ind]=right[ri]\n",
    "        ri+=1\n",
    "        ind+=1\n",
    "\n",
    "def divide(L):\n",
    "    if len(L)==1:\n",
    "        return\n",
    "    n = len(L)\n",
    "    left, right=L[:n//2],L[n//2:]\n",
    "    divide(left)\n",
    "    divide(right)\n",
    "    merge(L,left,right)\n",
    "    return L\n",
    "\n",
    "L=[34,5,12,67,55,90,32,1]\n",
    "divide(L)"
   ]
  },
  {
   "cell_type": "markdown",
   "id": "b8f69f2f",
   "metadata": {},
   "source": [
    "## Quick Sort"
   ]
  },
  {
   "cell_type": "code",
   "execution_count": 6,
   "id": "0ccb7cbf",
   "metadata": {},
   "outputs": [
    {
     "data": {
      "text/plain": [
       "[2, 5, 7, 8, 9, 11, 12]"
      ]
     },
     "execution_count": 6,
     "metadata": {},
     "output_type": "execute_result"
    }
   ],
   "source": [
    "def quicksort(L):\n",
    "    if len(L)<1:\n",
    "        return []\n",
    "    pivot=L[0]\n",
    "    left=[num for num in L[1:] if num<pivot]      #to include the duplicates,use <=\n",
    "    right=[num for num in L[1:] if num>pivot]\n",
    "    return quicksort(left)+[pivot]+quicksort(right)\n",
    "\n",
    "L=[11,8,7,12,9,2,2,11,5,12]\n",
    "quicksort(L)"
   ]
  },
  {
   "cell_type": "markdown",
   "id": "dabaa6b3",
   "metadata": {},
   "source": [
    "# Searching techniques"
   ]
  },
  {
   "cell_type": "markdown",
   "id": "9ad225ba",
   "metadata": {},
   "source": [
    "i-Linear search\n",
    "\n",
    "ii-Binary search\n",
    "\n",
    "iii-Interpolation search"
   ]
  },
  {
   "cell_type": "markdown",
   "id": "02fbd679",
   "metadata": {},
   "source": [
    "### Linear Search"
   ]
  },
  {
   "cell_type": "markdown",
   "id": "e9b4b2b1",
   "metadata": {},
   "source": [
    "##### Using for loop:"
   ]
  },
  {
   "cell_type": "code",
   "execution_count": 5,
   "id": "1b376194",
   "metadata": {},
   "outputs": [
    {
     "name": "stdout",
     "output_type": "stream",
     "text": [
      "4\n"
     ]
    }
   ],
   "source": [
    "L=[4,1,5,8,2,7,10]\n",
    "input=2\n",
    "\n",
    "for ind in range(len(L)):\n",
    "    if L[ind]==input:\n",
    "        print(ind)\n",
    "        break\n",
    "else:\n",
    "    print(-1)"
   ]
  },
  {
   "cell_type": "markdown",
   "id": "5b1ea562",
   "metadata": {},
   "source": [
    "##### Using while loop:"
   ]
  },
  {
   "cell_type": "code",
   "execution_count": 6,
   "id": "7f496af4",
   "metadata": {},
   "outputs": [
    {
     "name": "stdout",
     "output_type": "stream",
     "text": [
      "-1\n"
     ]
    }
   ],
   "source": [
    "L=[4,1,5,8,2,7,10]\n",
    "input,ind=3,0\n",
    "\n",
    "while ind<len(L):\n",
    "    if L[ind]==input:\n",
    "        print(ind)\n",
    "        break\n",
    "    ind+=1\n",
    "else:\n",
    "    print(-1)"
   ]
  },
  {
   "cell_type": "markdown",
   "id": "0eff89e6",
   "metadata": {},
   "source": [
    "## Binary Search"
   ]
  },
  {
   "cell_type": "code",
   "execution_count": 1,
   "id": "93eac30c",
   "metadata": {},
   "outputs": [
    {
     "name": "stdout",
     "output_type": "stream",
     "text": [
      "2\n"
     ]
    }
   ],
   "source": [
    "L=[-2,-1,2,6,9]\n",
    "\n",
    "low,high=0,len(L)-1\n",
    "mid=(low+high)//2\n",
    "\n",
    "user=2\n",
    "\n",
    "while low<=high and L[low]<=user<=L[high]:\n",
    "    if L[mid]<user:\n",
    "        low=mid+1\n",
    "    elif L[mid]>user:\n",
    "        high=mid-1\n",
    "    elif L[mid]==user:\n",
    "        print(mid)\n",
    "        break\n",
    "else:\n",
    "    print(-1)"
   ]
  },
  {
   "cell_type": "markdown",
   "id": "c3a4e5da",
   "metadata": {},
   "source": [
    "## Interpolation Search"
   ]
  },
  {
   "cell_type": "code",
   "execution_count": 6,
   "id": "4ca37150",
   "metadata": {},
   "outputs": [
    {
     "name": "stdout",
     "output_type": "stream",
     "text": [
      "0\n"
     ]
    }
   ],
   "source": [
    "L=[2,33,45,55,78,90,120]\n",
    "\n",
    "user=2\n",
    "low,high=0,len(L)-1\n",
    "\n",
    "while L[low]<=user<=L[high]:\n",
    "    pos=int(low+ (low-high)*(user-L[low]) / (L[low]-L[high]))\n",
    "    \n",
    "    if L[pos]<user:\n",
    "        low=pos+1\n",
    "    elif L[pos]>user:\n",
    "        high=pos-1\n",
    "    elif L[pos]==user:\n",
    "        print(pos)\n",
    "        break\n",
    "else:\n",
    "    print(-1)"
   ]
  },
  {
   "cell_type": "code",
   "execution_count": null,
   "id": "4978086e",
   "metadata": {},
   "outputs": [],
   "source": []
  },
  {
   "cell_type": "code",
   "execution_count": null,
   "id": "781b8da4",
   "metadata": {},
   "outputs": [],
   "source": []
  },
  {
   "cell_type": "code",
   "execution_count": null,
   "id": "2925087b",
   "metadata": {},
   "outputs": [],
   "source": []
  }
 ],
 "metadata": {
  "kernelspec": {
   "display_name": "Python 3 (ipykernel)",
   "language": "python",
   "name": "python3"
  },
  "language_info": {
   "codemirror_mode": {
    "name": "ipython",
    "version": 3
   },
   "file_extension": ".py",
   "mimetype": "text/x-python",
   "name": "python",
   "nbconvert_exporter": "python",
   "pygments_lexer": "ipython3",
   "version": "3.9.7"
  }
 },
 "nbformat": 4,
 "nbformat_minor": 5
}
